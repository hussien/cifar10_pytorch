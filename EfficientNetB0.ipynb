{
  "nbformat": 4,
  "nbformat_minor": 0,
  "metadata": {
    "colab": {
      "name": "EfficientNetB0.ipynb",
      "provenance": [],
      "collapsed_sections": []
    },
    "kernelspec": {
      "name": "python3",
      "display_name": "Python 3"
    },
    "language_info": {
      "name": "python"
    },
    "widgets": {
      "application/vnd.jupyter.widget-state+json": {
        "36bcfe430e6342118c99002c73d45809": {
          "model_module": "@jupyter-widgets/controls",
          "model_name": "HBoxModel",
          "state": {
            "_view_name": "HBoxView",
            "_dom_classes": [],
            "_model_name": "HBoxModel",
            "_view_module": "@jupyter-widgets/controls",
            "_model_module_version": "1.5.0",
            "_view_count": null,
            "_view_module_version": "1.5.0",
            "box_style": "",
            "layout": "IPY_MODEL_bbc0ecdcb0c648eaad15fcef6937ddc3",
            "_model_module": "@jupyter-widgets/controls",
            "children": [
              "IPY_MODEL_fe317d979acf437f8264f53bd2d30b09",
              "IPY_MODEL_1baecb345a364e258e18b6856a08ad39"
            ]
          }
        },
        "bbc0ecdcb0c648eaad15fcef6937ddc3": {
          "model_module": "@jupyter-widgets/base",
          "model_name": "LayoutModel",
          "state": {
            "_view_name": "LayoutView",
            "grid_template_rows": null,
            "right": null,
            "justify_content": null,
            "_view_module": "@jupyter-widgets/base",
            "overflow": null,
            "_model_module_version": "1.2.0",
            "_view_count": null,
            "flex_flow": null,
            "width": null,
            "min_width": null,
            "border": null,
            "align_items": null,
            "bottom": null,
            "_model_module": "@jupyter-widgets/base",
            "top": null,
            "grid_column": null,
            "overflow_y": null,
            "overflow_x": null,
            "grid_auto_flow": null,
            "grid_area": null,
            "grid_template_columns": null,
            "flex": null,
            "_model_name": "LayoutModel",
            "justify_items": null,
            "grid_row": null,
            "max_height": null,
            "align_content": null,
            "visibility": null,
            "align_self": null,
            "height": null,
            "min_height": null,
            "padding": null,
            "grid_auto_rows": null,
            "grid_gap": null,
            "max_width": null,
            "order": null,
            "_view_module_version": "1.2.0",
            "grid_template_areas": null,
            "object_position": null,
            "object_fit": null,
            "grid_auto_columns": null,
            "margin": null,
            "display": null,
            "left": null
          }
        },
        "fe317d979acf437f8264f53bd2d30b09": {
          "model_module": "@jupyter-widgets/controls",
          "model_name": "FloatProgressModel",
          "state": {
            "_view_name": "ProgressView",
            "style": "IPY_MODEL_d13fcabb163d4e848c441e038a1d6065",
            "_dom_classes": [],
            "description": "",
            "_model_name": "FloatProgressModel",
            "bar_style": "success",
            "max": 170498071,
            "_view_module": "@jupyter-widgets/controls",
            "_model_module_version": "1.5.0",
            "value": 170498071,
            "_view_count": null,
            "_view_module_version": "1.5.0",
            "orientation": "horizontal",
            "min": 0,
            "description_tooltip": null,
            "_model_module": "@jupyter-widgets/controls",
            "layout": "IPY_MODEL_774220e4b95b4961bdec428752b9000b"
          }
        },
        "1baecb345a364e258e18b6856a08ad39": {
          "model_module": "@jupyter-widgets/controls",
          "model_name": "HTMLModel",
          "state": {
            "_view_name": "HTMLView",
            "style": "IPY_MODEL_f3bd4dc809874bec978dbd1e595a656f",
            "_dom_classes": [],
            "description": "",
            "_model_name": "HTMLModel",
            "placeholder": "​",
            "_view_module": "@jupyter-widgets/controls",
            "_model_module_version": "1.5.0",
            "value": " 170499072/? [00:06&lt;00:00, 27217051.01it/s]",
            "_view_count": null,
            "_view_module_version": "1.5.0",
            "description_tooltip": null,
            "_model_module": "@jupyter-widgets/controls",
            "layout": "IPY_MODEL_603aae0c6d54467291d6ea76126b6fcc"
          }
        },
        "d13fcabb163d4e848c441e038a1d6065": {
          "model_module": "@jupyter-widgets/controls",
          "model_name": "ProgressStyleModel",
          "state": {
            "_view_name": "StyleView",
            "_model_name": "ProgressStyleModel",
            "description_width": "initial",
            "_view_module": "@jupyter-widgets/base",
            "_model_module_version": "1.5.0",
            "_view_count": null,
            "_view_module_version": "1.2.0",
            "bar_color": null,
            "_model_module": "@jupyter-widgets/controls"
          }
        },
        "774220e4b95b4961bdec428752b9000b": {
          "model_module": "@jupyter-widgets/base",
          "model_name": "LayoutModel",
          "state": {
            "_view_name": "LayoutView",
            "grid_template_rows": null,
            "right": null,
            "justify_content": null,
            "_view_module": "@jupyter-widgets/base",
            "overflow": null,
            "_model_module_version": "1.2.0",
            "_view_count": null,
            "flex_flow": null,
            "width": null,
            "min_width": null,
            "border": null,
            "align_items": null,
            "bottom": null,
            "_model_module": "@jupyter-widgets/base",
            "top": null,
            "grid_column": null,
            "overflow_y": null,
            "overflow_x": null,
            "grid_auto_flow": null,
            "grid_area": null,
            "grid_template_columns": null,
            "flex": null,
            "_model_name": "LayoutModel",
            "justify_items": null,
            "grid_row": null,
            "max_height": null,
            "align_content": null,
            "visibility": null,
            "align_self": null,
            "height": null,
            "min_height": null,
            "padding": null,
            "grid_auto_rows": null,
            "grid_gap": null,
            "max_width": null,
            "order": null,
            "_view_module_version": "1.2.0",
            "grid_template_areas": null,
            "object_position": null,
            "object_fit": null,
            "grid_auto_columns": null,
            "margin": null,
            "display": null,
            "left": null
          }
        },
        "f3bd4dc809874bec978dbd1e595a656f": {
          "model_module": "@jupyter-widgets/controls",
          "model_name": "DescriptionStyleModel",
          "state": {
            "_view_name": "StyleView",
            "_model_name": "DescriptionStyleModel",
            "description_width": "",
            "_view_module": "@jupyter-widgets/base",
            "_model_module_version": "1.5.0",
            "_view_count": null,
            "_view_module_version": "1.2.0",
            "_model_module": "@jupyter-widgets/controls"
          }
        },
        "603aae0c6d54467291d6ea76126b6fcc": {
          "model_module": "@jupyter-widgets/base",
          "model_name": "LayoutModel",
          "state": {
            "_view_name": "LayoutView",
            "grid_template_rows": null,
            "right": null,
            "justify_content": null,
            "_view_module": "@jupyter-widgets/base",
            "overflow": null,
            "_model_module_version": "1.2.0",
            "_view_count": null,
            "flex_flow": null,
            "width": null,
            "min_width": null,
            "border": null,
            "align_items": null,
            "bottom": null,
            "_model_module": "@jupyter-widgets/base",
            "top": null,
            "grid_column": null,
            "overflow_y": null,
            "overflow_x": null,
            "grid_auto_flow": null,
            "grid_area": null,
            "grid_template_columns": null,
            "flex": null,
            "_model_name": "LayoutModel",
            "justify_items": null,
            "grid_row": null,
            "max_height": null,
            "align_content": null,
            "visibility": null,
            "align_self": null,
            "height": null,
            "min_height": null,
            "padding": null,
            "grid_auto_rows": null,
            "grid_gap": null,
            "max_width": null,
            "order": null,
            "_view_module_version": "1.2.0",
            "grid_template_areas": null,
            "object_position": null,
            "object_fit": null,
            "grid_auto_columns": null,
            "margin": null,
            "display": null,
            "left": null
          }
        }
      }
    }
  },
  "cells": [
    {
      "cell_type": "code",
      "metadata": {
        "id": "QosNj8a82A1x"
      },
      "source": [
        "# !git clone https://github.com/hirotomusiker/cifar10_pytorch.git"
      ],
      "execution_count": 1,
      "outputs": []
    },
    {
      "cell_type": "code",
      "metadata": {
        "colab": {
          "base_uri": "https://localhost:8080/"
        },
        "id": "viVdgJWU2guS",
        "outputId": "3f1de461-cc66-4789-fbfd-c1a573a76ae9"
      },
      "source": [
        "from google.colab import drive\n",
        "drive.mount('/content/gdrive')"
      ],
      "execution_count": 2,
      "outputs": [
        {
          "output_type": "stream",
          "text": [
            "Drive already mounted at /content/gdrive; to attempt to forcibly remount, call drive.mount(\"/content/gdrive\", force_remount=True).\n"
          ],
          "name": "stdout"
        }
      ]
    },
    {
      "cell_type": "code",
      "metadata": {
        "id": "vqndcWxK2o_n"
      },
      "source": [
        "import numpy as np\n",
        "%matplotlib inline\n",
        "import matplotlib.pyplot as plt\n",
        "from PIL import Image\n",
        "import torch\n",
        "from torchvision import datasets, models, transforms\n",
        "import torch.nn as nn\n",
        "from torch.nn import functional as F\n",
        "import torch.optim as optim\n",
        "\n",
        "import os\n",
        "import torch\n",
        "import torchvision\n",
        "import tarfile\n",
        "import numpy as np\n",
        "import torch.nn.functional as F\n",
        "from torchvision.datasets.utils import download_url\n",
        "from torchvision.datasets import ImageFolder\n",
        "from torch.utils.data import DataLoader\n",
        "import torchvision.transforms as tt\n",
        "from torch.utils.data import random_split\n",
        "from torchvision.utils import make_grid\n",
        "import matplotlib\n",
        "import matplotlib.pyplot as plt"
      ],
      "execution_count": 3,
      "outputs": []
    },
    {
      "cell_type": "code",
      "metadata": {
        "colab": {
          "base_uri": "https://localhost:8080/"
        },
        "id": "qp54_tFD4g78",
        "outputId": "936f6409-11d6-464e-fcb0-cec946d711d3"
      },
      "source": [
        "!pip install yacs"
      ],
      "execution_count": 4,
      "outputs": [
        {
          "output_type": "stream",
          "text": [
            "Requirement already satisfied: yacs in /usr/local/lib/python3.7/dist-packages (0.1.8)\n",
            "Requirement already satisfied: PyYAML in /usr/local/lib/python3.7/dist-packages (from yacs) (3.13)\n"
          ],
          "name": "stdout"
        }
      ]
    },
    {
      "cell_type": "code",
      "metadata": {
        "id": "QgvlNlHj2yGn"
      },
      "source": [
        "import os\n",
        "import argparse\n",
        "import torch\n",
        "import os, sys\n",
        "from cifar10_pytorch.cifar10_pytorch.engine import train, test\n",
        "from cifar10_pytorch.cifar10_pytorch.config import cfg\n",
        "from cifar10_pytorch.cifar10_pytorch.data import dataset\n",
        "from cifar10_pytorch.cifar10_pytorch.modeling import build_model"
      ],
      "execution_count": 5,
      "outputs": []
    },
    {
      "cell_type": "code",
      "metadata": {
        "id": "VvpWCHKM2183"
      },
      "source": [
        "# ! rm -r 'cifar10_pytorch'"
      ],
      "execution_count": 6,
      "outputs": []
    },
    {
      "cell_type": "code",
      "metadata": {
        "id": "0t5n4DSVEIai"
      },
      "source": [
        "# !unzip -q  '/content/gdrive/MyDrive/DLCourseProject/CINIC-10-Filtered_1K.zip' -d '/content/'"
      ],
      "execution_count": 7,
      "outputs": []
    },
    {
      "cell_type": "code",
      "metadata": {
        "id": "AIbrxq3T8fSA"
      },
      "source": [
        "def arg_parser():\n",
        "    parser = argparse.ArgumentParser(description=\"CIFAR10 training\")\n",
        "    parser.add_argument(\n",
        "        \"--config\",\n",
        "        default='/content/cifar10_pytorch/configs/efficientnetB0.yaml',\n",
        "        help=\"path to config file\",\n",
        "        type=str\n",
        "    )\n",
        "    parser.add_argument(\n",
        "        '--tfboard', help='tensorboard path for logging', type=str, default='out')\n",
        "    parser.add_argument('--checkpoint_dir', type=str,\n",
        "                        default='checkpoints',\n",
        "                        help='directory where checkpoint files are saved')\n",
        "    parser.add_argument('--resume', type=str,\n",
        "                        default=None,\n",
        "                        help='checkpoint file path')\n",
        "    return parser.parse_args(\"\")"
      ],
      "execution_count": 8,
      "outputs": []
    },
    {
      "cell_type": "code",
      "metadata": {
        "id": "wfJDsbgGDgxl",
        "colab": {
          "base_uri": "https://localhost:8080/"
        },
        "outputId": "69c13829-88c1-41e7-9cb0-47762b272a0f"
      },
      "source": [
        "!pip install tensorboardX"
      ],
      "execution_count": 9,
      "outputs": [
        {
          "output_type": "stream",
          "text": [
            "Requirement already satisfied: tensorboardX in /usr/local/lib/python3.7/dist-packages (2.2)\n",
            "Requirement already satisfied: numpy in /usr/local/lib/python3.7/dist-packages (from tensorboardX) (1.19.5)\n",
            "Requirement already satisfied: protobuf>=3.8.0 in /usr/local/lib/python3.7/dist-packages (from tensorboardX) (3.12.4)\n",
            "Requirement already satisfied: setuptools in /usr/local/lib/python3.7/dist-packages (from protobuf>=3.8.0->tensorboardX) (56.0.0)\n",
            "Requirement already satisfied: six>=1.9 in /usr/local/lib/python3.7/dist-packages (from protobuf>=3.8.0->tensorboardX) (1.15.0)\n"
          ],
          "name": "stdout"
        }
      ]
    },
    {
      "cell_type": "code",
      "metadata": {
        "colab": {
          "base_uri": "https://localhost:8080/",
          "height": 312,
          "referenced_widgets": [
            "36bcfe430e6342118c99002c73d45809",
            "bbc0ecdcb0c648eaad15fcef6937ddc3",
            "fe317d979acf437f8264f53bd2d30b09",
            "1baecb345a364e258e18b6856a08ad39",
            "d13fcabb163d4e848c441e038a1d6065",
            "774220e4b95b4961bdec428752b9000b",
            "f3bd4dc809874bec978dbd1e595a656f",
            "603aae0c6d54467291d6ea76126b6fcc"
          ]
        },
        "id": "JOvWWEZc28q2",
        "outputId": "905dcc39-0419-4ba4-e815-cedd6d5dad44"
      },
      "source": [
        "# args and configs\n",
        "args = arg_parser()\n",
        "if args.config:\n",
        "    cfg.merge_from_file(args.config)\n",
        "cfg.freeze()\n",
        "os.makedirs(args.checkpoint_dir, exist_ok=True)\n",
        "\n",
        "# Model definition\n",
        "# cfg.SOLVER.BATCHSIZE=64\n",
        "model = build_model(cfg)\n",
        "# cfg.MODEL.DEVICE='cpu'\n",
        "print(cfg.MODEL.DEVICE)\n",
        "device = cfg.MODEL.DEVICE\n",
        "model.to(device)\n",
        "print(1)\n",
        "# Build dataloader\n",
        "dataloader_train, dataloader_test = dataset.prepare_cifar10_dataset(cfg)\n",
        "print(len(dataloader_train.dataset))\n",
        "\n",
        "# Optimizer settings\n",
        "criterion = torch.nn.CrossEntropyLoss()\n",
        "optimizer = torch.optim.SGD(model.parameters(),\n",
        "                            lr=cfg.SOLVER.BASE_LR,\n",
        "                            momentum=cfg.SOLVER.MOMENTUM,\n",
        "                            weight_decay=cfg.SOLVER.WEIGHT_DECAY,\n",
        "                            )\n",
        "\n",
        "scheduler = torch.optim.lr_scheduler.MultiStepLR(\n",
        "    optimizer,\n",
        "    cfg.SOLVER.MILESTONES,\n",
        "    cfg.SOLVER.GAMMA,\n",
        ")\n",
        "print(2)\n",
        "if args.resume:\n",
        "    checkpoint = torch.load(args.resume)\n",
        "    model.load_state_dict(checkpoint['model_state_dict'])\n",
        "    optimizer.load_state_dict(checkpoint['optimizer_state_dict'])\n",
        "    scheduler.load_state_dict(checkpoint['scheduler_state_dict'])\n",
        "    #scheduler.last_epoch = checkpoint['epoch']\n",
        "    start_epoch = checkpoint['epoch']\n",
        "else:\n",
        "    start_epoch = 0\n",
        "\n",
        "# Tensorboard settings\n",
        "if args.tfboard:\n",
        "    print(\"using tfboard\")\n",
        "    from tensorboardX import SummaryWriter\n",
        "    tblogger = SummaryWriter(args.tfboard)\n",
        "else:\n",
        "    tblogger = None\n",
        "\n",
        "# Training Loop\n",
        "end_epoch = cfg.SOLVER.END_EPOCH\n",
        "print(3)\n",
        "for epoch in range(start_epoch, end_epoch):\n",
        "    scheduler.step()\n",
        "    print(\"------ start epoch {} / {} with lr = {:.5f} -----\".format(\n",
        "        epoch+1, end_epoch, scheduler.get_lr()[0])\n",
        "    )\n",
        "    loss, train_acc = train(model, device, dataloader_train, criterion, optimizer, epoch)\n",
        "    test_acc = test(model, device, dataloader_test, criterion, epoch)\n",
        "    if tblogger:\n",
        "        tblogger.add_scalar('train/loss', loss, epoch+1)\n",
        "        tblogger.add_scalar('train/acc', train_acc, epoch+1)\n",
        "        tblogger.add_scalar('test/acc', test_acc, epoch+1)\n",
        "    torch.save({'epoch': epoch + 1,\n",
        "                'model_state_dict': model.state_dict(),\n",
        "                'optimizer_state_dict': optimizer.state_dict(),\n",
        "                'scheduler_state_dict': scheduler.state_dict(),\n",
        "                },\n",
        "                os.path.join(args.checkpoint_dir, \"snapshot.ckpt\"))"
      ],
      "execution_count": null,
      "outputs": [
        {
          "output_type": "stream",
          "text": [
            "cpu\n",
            "1\n",
            "Downloading https://www.cs.toronto.edu/~kriz/cifar-10-python.tar.gz to ./data/cifar-10-python.tar.gz\n"
          ],
          "name": "stdout"
        },
        {
          "output_type": "display_data",
          "data": {
            "application/vnd.jupyter.widget-view+json": {
              "model_id": "36bcfe430e6342118c99002c73d45809",
              "version_minor": 0,
              "version_major": 2
            },
            "text/plain": [
              "HBox(children=(FloatProgress(value=0.0, max=170498071.0), HTML(value='')))"
            ]
          },
          "metadata": {
            "tags": []
          }
        },
        {
          "output_type": "stream",
          "text": [
            "\n",
            "Extracting ./data/cifar-10-python.tar.gz to ./data\n",
            "10100\n",
            "2\n",
            "using tfboard\n",
            "3\n",
            "------ start epoch 1 / 35 with lr = 0.01000 -----\n"
          ],
          "name": "stdout"
        },
        {
          "output_type": "stream",
          "text": [
            "/usr/local/lib/python3.7/dist-packages/torch/optim/lr_scheduler.py:134: UserWarning: Detected call of `lr_scheduler.step()` before `optimizer.step()`. In PyTorch 1.1.0 and later, you should call them in the opposite order: `optimizer.step()` before `lr_scheduler.step()`.  Failure to do this will result in PyTorch skipping the first value of the learning rate schedule. See more details at https://pytorch.org/docs/stable/optim.html#how-to-adjust-learning-rate\n",
            "  \"https://pytorch.org/docs/stable/optim.html#how-to-adjust-learning-rate\", UserWarning)\n",
            "/usr/local/lib/python3.7/dist-packages/torch/optim/lr_scheduler.py:417: UserWarning: To get the last learning rate computed by the scheduler, please use `get_last_lr()`.\n",
            "  \"please use `get_last_lr()`.\", UserWarning)\n"
          ],
          "name": "stderr"
        }
      ]
    },
    {
      "cell_type": "code",
      "metadata": {
        "id": "-K2X8O_r8iut"
      },
      "source": [
        ""
      ],
      "execution_count": null,
      "outputs": []
    }
  ]
}